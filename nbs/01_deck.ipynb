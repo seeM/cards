{
 "cells": [
  {
   "cell_type": "markdown",
   "id": "da213e89-6364-4ed2-b39f-965e6d4322d5",
   "metadata": {},
   "source": [
    "# Deck\n",
    "\n",
    "> A collection of `Card`s."
   ]
  },
  {
   "cell_type": "code",
   "execution_count": null,
   "id": "e7b988d8-8602-4fcf-bdf7-aef9435583ae",
   "metadata": {},
   "outputs": [],
   "source": [
    "#| default_exp deck"
   ]
  },
  {
   "cell_type": "code",
   "execution_count": null,
   "id": "297eabdf-1a3c-4244-8ed8-b7b43c825a12",
   "metadata": {},
   "outputs": [],
   "source": [
    "#| export\n",
    "from cards.card import Card, ranks, suits"
   ]
  },
  {
   "cell_type": "code",
   "execution_count": null,
   "id": "f0cbc8b8-bb67-477e-8e09-9eb1b98df000",
   "metadata": {},
   "outputs": [],
   "source": [
    "#| export\n",
    "class Deck:\n",
    "    \"A collection of `Card`s.\"\n",
    "    def __init__(self):\n",
    "        self.cards = []\n",
    "        for suit in range(len(suits)):\n",
    "            for rank in range(1, len(ranks)):\n",
    "                self.cards.append(Card(suit, rank))\n",
    "\n",
    "    def __repr__(self):\n",
    "        return \" \".join(repr(card) for card in self.cards)\n",
    "    \n",
    "    def __len__(self):\n",
    "        return len(self.cards)\n",
    "    \n",
    "    def pop(self):\n",
    "        return self.cards.pop()"
   ]
  },
  {
   "cell_type": "code",
   "execution_count": null,
   "id": "8f57f284-6910-4d24-ac99-49af9f70ef50",
   "metadata": {},
   "outputs": [
    {
     "data": {
      "text/plain": [
       "A♣️ 2♣️ 3♣️ 4♣️ 5♣️ 6♣️ 7♣️ 8♣️ 9♣️ 10♣️ J♣️ Q♣️ K♣️ A♦️ 2♦️ 3♦️ 4♦️ 5♦️ 6♦️ 7♦️ 8♦️ 9♦️ 10♦️ J♦️ Q♦️ K♦️ A❤️ 2❤️ 3❤️ 4❤️ 5❤️ 6❤️ 7❤️ 8❤️ 9❤️ 10❤️ J❤️ Q❤️ K❤️ A♠️ 2♠️ 3♠️ 4♠️ 5♠️ 6♠️ 7♠️ 8♠️ 9♠️ 10♠️ J♠️ Q♠️ K♠️"
      ]
     },
     "execution_count": null,
     "metadata": {},
     "output_type": "execute_result"
    }
   ],
   "source": [
    "deck = Deck()\n",
    "deck"
   ]
  },
  {
   "cell_type": "markdown",
   "id": "f3644f7a-6a52-4503-a808-071ecf40efd6",
   "metadata": {},
   "source": [
    "There are 52 cards in a deck:"
   ]
  },
  {
   "cell_type": "code",
   "execution_count": null,
   "id": "32027c68-8ccc-46bd-ae1b-2ee99be68b07",
   "metadata": {},
   "outputs": [],
   "source": [
    "assert len(deck) == 52"
   ]
  },
  {
   "cell_type": "markdown",
   "id": "43f0ab95-65d3-4990-a171-34b002bc3c47",
   "metadata": {},
   "source": [
    "Decks work like ordinary Python lists. For example, you can draw a card using `pop`:"
   ]
  },
  {
   "cell_type": "code",
   "execution_count": null,
   "id": "f84ef4f0-cacd-42ff-b70c-a0396dda10a3",
   "metadata": {},
   "outputs": [
    {
     "data": {
      "text/plain": [
       "K♠️"
      ]
     },
     "execution_count": null,
     "metadata": {},
     "output_type": "execute_result"
    }
   ],
   "source": [
    "card = deck.pop()\n",
    "assert len(deck) == 51\n",
    "card"
   ]
  },
  {
   "cell_type": "code",
   "execution_count": null,
   "id": "3ed5386e-78b3-47ec-8488-b3838ed69229",
   "metadata": {},
   "outputs": [],
   "source": [
    "#| hide\n",
    "import nbdev; nbdev.nbdev_export()"
   ]
  }
 ],
 "metadata": {
  "kernelspec": {
   "display_name": "python3",
   "language": "python",
   "name": "python3"
  },
  "widgets": {
   "application/vnd.jupyter.widget-state+json": {
    "state": {},
    "version_major": 2,
    "version_minor": 0
   }
  }
 },
 "nbformat": 4,
 "nbformat_minor": 5
}
