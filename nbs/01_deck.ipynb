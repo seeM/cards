{
 "cells": [
  {
   "cell_type": "markdown",
   "id": "0922392b-90dc-4a52-8f47-34770970cb36",
   "metadata": {},
   "source": [
    "# Deck\n",
    "\n",
    "> A collection of `Card`s."
   ]
  },
  {
   "cell_type": "code",
   "execution_count": null,
   "id": "962b035a-095d-4d9d-8564-bacee9de93ee",
   "metadata": {},
   "outputs": [],
   "source": [
    "#| default_exp deck"
   ]
  },
  {
   "cell_type": "code",
   "execution_count": null,
   "id": "738801cf-5b45-42e4-b77c-dd0b942e95fe",
   "metadata": {},
   "outputs": [],
   "source": [
    "#| export\n",
    "from cards.card import Card\n",
    "\n",
    "import random\n",
    "from collections.abc import MutableSequence"
   ]
  },
  {
   "cell_type": "code",
   "execution_count": null,
   "id": "f9fa85d7-8a88-492c-b14a-15a4cb993863",
   "metadata": {},
   "outputs": [],
   "source": [
    "from fastcore.test import *"
   ]
  },
  {
   "cell_type": "markdown",
   "id": "64c3bc8b-3236-4b4e-a1d5-83a356efe1c3",
   "metadata": {},
   "source": [
    "This is based on Chapter 18 of Allen B. Downey's _Think Python_ which he has generously made available [here](https://www.greenteapress.com/thinkpython/html/book019.html)."
   ]
  },
  {
   "cell_type": "code",
   "execution_count": null,
   "id": "c8ef5979-8863-421a-936d-af4d2e4aac73",
   "metadata": {},
   "outputs": [],
   "source": [
    "#| export\n",
    "class Deck(MutableSequence):\n",
    "    def __init__(self):\n",
    "        self.cards = []\n",
    "        for suit in range(4):\n",
    "            for rank in range(1, 14):\n",
    "                card = Card(suit, rank)\n",
    "                self.cards.append(card)\n",
    "                \n",
    "    def __getitem__(self, key):\n",
    "        return self.cards[key]\n",
    "    \n",
    "    def __setitem__(self, key, value):\n",
    "        self.cards[key] = value\n",
    "    \n",
    "    def __delitem__(self, key):\n",
    "        del self.cards[key]\n",
    "    \n",
    "    def __len__(self):\n",
    "        return len(self.cards)\n",
    "    \n",
    "    def insert(self, key, value):\n",
    "        self.cards.insert(key, value)\n",
    "        \n",
    "    def shuffle(self):\n",
    "        random.shuffle(self.cards)\n",
    "                \n",
    "    def __repr__(self):\n",
    "        return ' '.join(repr(card) for card in self.cards)"
   ]
  },
  {
   "cell_type": "code",
   "execution_count": null,
   "id": "78021e97-92de-4fce-92e0-d29e9e3c4487",
   "metadata": {},
   "outputs": [
    {
     "data": {
      "text/plain": [
       "A♣️ 2♣️ 3♣️ 4♣️ 5♣️ 6♣️ 7♣️ 8♣️ 9♣️ 10♣️ J♣️ Q♣️ K♣️ A♦️ 2♦️ 3♦️ 4♦️ 5♦️ 6♦️ 7♦️ 8♦️ 9♦️ 10♦️ J♦️ Q♦️ K♦️ A❤️ 2❤️ 3❤️ 4❤️ 5❤️ 6❤️ 7❤️ 8❤️ 9❤️ 10❤️ J❤️ Q❤️ K❤️ A♠️ 2♠️ 3♠️ 4♠️ 5♠️ 6♠️ 7♠️ 8♠️ 9♠️ 10♠️ J♠️ Q♠️ K♠️"
      ]
     },
     "execution_count": null,
     "metadata": {},
     "output_type": "execute_result"
    }
   ],
   "source": [
    "deck = Deck()\n",
    "deck"
   ]
  },
  {
   "cell_type": "markdown",
   "id": "2e941727-7aaa-444f-a9e8-410ef9191852",
   "metadata": {},
   "source": [
    "Decks mostly behave like ordinary Python lists. You can draw a card from a deck:"
   ]
  },
  {
   "cell_type": "code",
   "execution_count": null,
   "id": "62e342bd-f754-451c-be25-0eb74b97d81b",
   "metadata": {},
   "outputs": [],
   "source": [
    "test_eq(deck.pop(), Card(3, 13))"
   ]
  },
  {
   "cell_type": "markdown",
   "id": "c2fb459d-3777-4398-8556-5a3fbc93c8ce",
   "metadata": {},
   "source": [
    "You can append a card to the end of a deck:"
   ]
  },
  {
   "cell_type": "code",
   "execution_count": null,
   "id": "7af11737-87c5-4bac-ac93-c60833fdfa2d",
   "metadata": {},
   "outputs": [],
   "source": [
    "deck.append(Card(3, 13))\n",
    "assert deck[-1] == Card(3, 13)"
   ]
  },
  {
   "cell_type": "markdown",
   "id": "4283d85e-2186-4a20-85a2-56bdf9bbbb91",
   "metadata": {},
   "source": [
    "You can shuffle a deck:"
   ]
  },
  {
   "cell_type": "code",
   "execution_count": null,
   "id": "31990cff-1f28-46d4-bc61-e17588508e45",
   "metadata": {},
   "outputs": [
    {
     "data": {
      "text/plain": [
       "10♣️ J♦️ K♦️ 4♣️ 9♦️ K❤️ 4♦️ A♠️ 7♦️ Q♣️ 8♠️ Q♦️ 8❤️ 4❤️ 6❤️ 5♠️ 5♣️ 3❤️ J♣️ A❤️ J❤️ A♣️ 6♠️ 6♦️ 4♠️ Q♠️ 10❤️ 10♠️ 5❤️ 8♦️ 10♦️ K♣️ K♠️ 7❤️ 7♠️ A♦️ 3♠️ J♠️ 3♣️ 2❤️ Q❤️ 6♣️ 9❤️ 7♣️ 9♣️ 2♦️ 3♦️ 5♦️ 9♠️ 2♣️ 8♣️ 2♠️"
      ]
     },
     "execution_count": null,
     "metadata": {},
     "output_type": "execute_result"
    }
   ],
   "source": [
    "random.seed(42)\n",
    "deck.shuffle()\n",
    "deck"
   ]
  },
  {
   "cell_type": "code",
   "execution_count": null,
   "id": "a08ac4cd-4688-4d25-9152-0f1057aca114",
   "metadata": {},
   "outputs": [],
   "source": [
    "#| hide\n",
    "import nbdev; nbdev.nbdev_export()"
   ]
  }
 ],
 "metadata": {
  "kernelspec": {
   "display_name": "python3",
   "language": "python",
   "name": "python3"
  },
  "widgets": {
   "application/vnd.jupyter.widget-state+json": {
    "state": {},
    "version_major": 2,
    "version_minor": 0
   }
  }
 },
 "nbformat": 4,
 "nbformat_minor": 5
}
