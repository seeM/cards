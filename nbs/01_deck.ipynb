{
 "cells": [
  {
   "cell_type": "markdown",
   "id": "6dc91205-5607-4aee-a8fb-6a1520c0f70d",
   "metadata": {},
   "source": [
    "# Deck\n",
    "> A collection of standard playing cards."
   ]
  },
  {
   "cell_type": "code",
   "execution_count": null,
   "id": "ce5d5185-d4a9-4214-bf22-924308b275d7",
   "metadata": {},
   "outputs": [],
   "source": [
    "#| default_exp deck"
   ]
  },
  {
   "cell_type": "code",
   "execution_count": null,
   "id": "803b7444-3ed6-401c-95e5-860e6f7c557b",
   "metadata": {},
   "outputs": [],
   "source": [
    "#| export\n",
    "from cards.card import Card, ranks, suits"
   ]
  },
  {
   "cell_type": "code",
   "execution_count": null,
   "id": "613e43b9-a3bf-4903-ac72-65b739842751",
   "metadata": {},
   "outputs": [],
   "source": [
    "#| export\n",
    "class Deck:\n",
    "    \"\"\"\n",
    "    A collection of standard playing cards.\n",
    "    \"\"\"\n",
    "    def __init__(self):\n",
    "        self.cards = []\n",
    "        for suit in range(len(suits)):\n",
    "            for rank in range(1, len(ranks)):\n",
    "                self.cards.append(Card(suit, rank))\n",
    "    \n",
    "    def __repr__(self):\n",
    "        return \" \".join(repr(card) for card in self.cards)\n",
    "    \n",
    "    def __len__(self):\n",
    "        return len(self.cards)\n",
    "    \n",
    "    def pop(self):\n",
    "        return self.cards.pop()"
   ]
  },
  {
   "cell_type": "markdown",
   "id": "81620130-a412-4fa2-ab58-dc111e2e9574",
   "metadata": {},
   "source": [
    "Decks start out with 52 cards."
   ]
  },
  {
   "cell_type": "code",
   "execution_count": null,
   "id": "45a2d8aa-600c-4dcd-85c2-25bd43b2da98",
   "metadata": {},
   "outputs": [
    {
     "data": {
      "text/plain": [
       "A♣️ 2♣️ 3♣️ 4♣️ 5♣️ 6♣️ 7♣️ 8♣️ 9♣️ 10♣️ J♣️ Q♣️ K♣️ A♦️ 2♦️ 3♦️ 4♦️ 5♦️ 6♦️ 7♦️ 8♦️ 9♦️ 10♦️ J♦️ Q♦️ K♦️ A❤️ 2❤️ 3❤️ 4❤️ 5❤️ 6❤️ 7❤️ 8❤️ 9❤️ 10❤️ J❤️ Q❤️ K❤️ A♠️ 2♠️ 3♠️ 4♠️ 5♠️ 6♠️ 7♠️ 8♠️ 9♠️ 10♠️ J♠️ Q♠️ K♠️"
      ]
     },
     "execution_count": null,
     "metadata": {},
     "output_type": "execute_result"
    }
   ],
   "source": [
    "deck = Deck()\n",
    "deck"
   ]
  },
  {
   "cell_type": "code",
   "execution_count": null,
   "id": "54d2a127-4f71-4113-a5dc-bb1617b5380a",
   "metadata": {},
   "outputs": [],
   "source": [
    "assert len(deck) == 52"
   ]
  },
  {
   "cell_type": "markdown",
   "id": "1a70c895-0264-4f1c-9807-3cdd3735659f",
   "metadata": {},
   "source": [
    "Decks behave like ordinary Python lists, so you can draw a card from the top of the deck (end of the list) with `pop`:"
   ]
  },
  {
   "cell_type": "code",
   "execution_count": null,
   "id": "13ee1239-7a91-4dfc-8f8e-a7b7b11009f4",
   "metadata": {},
   "outputs": [],
   "source": [
    "assert repr(deck.pop()) == \"K♠️\""
   ]
  },
  {
   "cell_type": "code",
   "execution_count": null,
   "id": "2f49e677-50ea-4062-9076-95ee3657dca5",
   "metadata": {},
   "outputs": [],
   "source": [
    "#| hide\n",
    "import nbdev; nbdev.nbdev_export()"
   ]
  }
 ],
 "metadata": {
  "kernelspec": {
   "display_name": "python3",
   "language": "python",
   "name": "python3"
  },
  "widgets": {
   "application/vnd.jupyter.widget-state+json": {
    "state": {},
    "version_major": 2,
    "version_minor": 0
   }
  }
 },
 "nbformat": 4,
 "nbformat_minor": 5
}
