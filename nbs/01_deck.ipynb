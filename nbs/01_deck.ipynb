{
 "cells": [
  {
   "cell_type": "markdown",
   "id": "0922392b-90dc-4a52-8f47-34770970cb36",
   "metadata": {},
   "source": [
    "# Deck\n",
    "\n",
    "> A collection of `Card`s."
   ]
  },
  {
   "cell_type": "markdown",
   "id": "64c3bc8b-3236-4b4e-a1d5-83a356efe1c3",
   "metadata": {},
   "source": [
    "This is largely based on Chapter 18 of Allen B. Downey's _Think Python_ which he has generously made available [here](https://www.greenteapress.com/thinkpython/html/book019.html)."
   ]
  },
  {
   "cell_type": "code",
   "execution_count": null,
   "id": "c8ef5979-8863-421a-936d-af4d2e4aac73",
   "metadata": {},
   "outputs": [],
   "source": [
    "class Deck:\n",
    "    def __init__(self):\n",
    "        self.cards = []\n",
    "        for suit in range(4):\n",
    "            for rank in range(1, 14):\n",
    "                card = Card(suit, rank)\n",
    "                self.cards.append(card)"
   ]
  },
  {
   "cell_type": "code",
   "execution_count": null,
   "id": "6f09e850-8b76-4b57-8364-bd7a854b9ecb",
   "metadata": {},
   "outputs": [
    {
     "ename": "NameError",
     "evalue": "name 'Card' is not defined",
     "output_type": "error",
     "traceback": [
      "\u001b[0;31m---------------------------------------------------------------------------\u001b[0m",
      "\u001b[0;31mNameError\u001b[0m                                 Traceback (most recent call last)",
      "Cell \u001b[0;32mIn[2], line 1\u001b[0m\n\u001b[0;32m----> 1\u001b[0m deck \u001b[38;5;241m=\u001b[39m \u001b[43mDeck\u001b[49m\u001b[43m(\u001b[49m\u001b[43m)\u001b[49m\n",
      "Cell \u001b[0;32mIn[1], line 6\u001b[0m, in \u001b[0;36mDeck.__init__\u001b[0;34m(self)\u001b[0m\n\u001b[1;32m      4\u001b[0m \u001b[38;5;28;01mfor\u001b[39;00m suit \u001b[38;5;129;01min\u001b[39;00m \u001b[38;5;28mrange\u001b[39m(\u001b[38;5;241m4\u001b[39m):\n\u001b[1;32m      5\u001b[0m     \u001b[38;5;28;01mfor\u001b[39;00m rank \u001b[38;5;129;01min\u001b[39;00m \u001b[38;5;28mrange\u001b[39m(\u001b[38;5;241m1\u001b[39m, \u001b[38;5;241m14\u001b[39m):\n\u001b[0;32m----> 6\u001b[0m         card \u001b[38;5;241m=\u001b[39m \u001b[43mCard\u001b[49m(suit, rank)\n\u001b[1;32m      7\u001b[0m         \u001b[38;5;28mself\u001b[39m\u001b[38;5;241m.\u001b[39mcards\u001b[38;5;241m.\u001b[39mappend(card)\n",
      "\u001b[0;31mNameError\u001b[0m: name 'Card' is not defined"
     ]
    }
   ],
   "source": [
    "deck = Deck()"
   ]
  },
  {
   "cell_type": "code",
   "execution_count": null,
   "id": "a60cf079-21e2-4fad-9059-ba2033701b5d",
   "metadata": {},
   "outputs": [],
   "source": [
    "deck"
   ]
  }
 ],
 "metadata": {
  "kernelspec": {
   "display_name": "python3",
   "language": "python",
   "name": "python3"
  },
  "widgets": {
   "application/vnd.jupyter.widget-state+json": {
    "state": {},
    "version_major": 2,
    "version_minor": 0
   }
  }
 },
 "nbformat": 4,
 "nbformat_minor": 5
}
